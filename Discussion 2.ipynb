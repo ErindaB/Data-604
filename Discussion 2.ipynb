{
 "cells": [
  {
   "cell_type": "markdown",
   "metadata": {},
   "source": [
    "1.What is a random seed in simulation, and why should we care? \n",
    "A random seed in simulation  is a starting point when you generate random numbers. If you use the same seed you get the same random numbers.For example in Python, if you use seed(123) and then generate some random numbers they will be the same with the ones you generate later on but with the same seed (123).\n",
    "This is very useful because if an experiment uses random numbers and we want to repeat the same experiment different times, then we’ll need the same random numbers.\n",
    "\n",
    "1.b  How was simulation used in the article this week? \n",
    "\n",
    "The article  used Monte Carlo Simulations to evaluate the rules used in the allocation of air ambulance units during major combat operations.Repetitive sampling and flexible parameters are used in order to investigate all scenarios.\n"
   ]
  },
  {
   "cell_type": "markdown",
   "metadata": {},
   "source": [
    "2.Share some code from last week's exercises that was particularly rewarding or frustrating. We will comment on each other's works."
   ]
  },
  {
   "cell_type": "code",
   "execution_count": null,
   "metadata": {},
   "outputs": [],
   "source": [
    "# The code below was rewarding for me since it provided a different perspective on decomposing a system into multiple parts which can make problem solving more efficient.\n",
    "def step(state, p1, p2):\n",
    "\n",
    "    state.clock += 1\n",
    "    \n",
    "    if flip(p1):\n",
    "        bike_to_wellesley(state)\n",
    "    \n",
    "    if flip(p2):\n",
    "        bike_to_olin(state)\n",
    "        \n",
    "    if state.t_first_empty != -1:\n",
    "        return\n",
    "    \n",
    "    if state.olin_empty + state.wellesley_empty > 0:\n",
    "        state.t_first_empty = state.clock"
   ]
  }
 ],
 "metadata": {
  "kernelspec": {
   "display_name": "Python 3",
   "language": "python",
   "name": "python3"
  },
  "language_info": {
   "codemirror_mode": {
    "name": "ipython",
    "version": 3
   },
   "file_extension": ".py",
   "mimetype": "text/x-python",
   "name": "python",
   "nbconvert_exporter": "python",
   "pygments_lexer": "ipython3",
   "version": "3.7.4"
  }
 },
 "nbformat": 4,
 "nbformat_minor": 2
}
