{
 "cells": [
  {
   "cell_type": "markdown",
   "metadata": {},
   "source": [
    "# Part 1\n",
    "Predictive mathematical models for epidemics are fundamental to understand the course of the epidemic and to plan effective control strategies.  One commonly used model is the SIR model  for human-to-human transmission, which describes the flow of individuals through three mutually exclusive stages of infection: susceptible, infected and recovered. This type of a model, is an example of a compartment model, since its breaking a system down into distinct categories. Sir can be used as a model for the The COVID19 Pandemic to predict the trend of Pandemic development and prepare what could in the short future,\n",
    "A problematic to SIR for  COVID19 is the accuracy of data collected. Many countries are not reporting real data. I would take in consideration the country’s regime too in order to get more trustworthy data.\n"
   ]
  },
  {
   "cell_type": "markdown",
   "metadata": {},
   "source": [
    "# Part 2\n",
    "\n",
    "I found very rewarding from chapter 8   exploring Type Hinting \n",
    "\n",
    "def read_table2(filename: str = WORLD_POP_URL) -> pd.DataFrame:\n",
    "    tables = pd.read_html(filename, header=0, index_col=0, decimal='M')\n",
    "    tbl_two = tables[2]\n",
    "    tbl_two.columns = ['census', 'prb', 'un', 'maddison',\n",
    "                       'hyde', 'tanton', 'biraben', 'mj',\n",
    "                       'thomlinson', 'durand', 'clark']\n",
    "\n",
    "    tbl_two['Year'] = tbl_two.index\n",
    "\n",
    "    return tbl_two\n",
    "\n"
   ]
  },
  {
   "cell_type": "code",
   "execution_count": null,
   "metadata": {},
   "outputs": [],
   "source": []
  }
 ],
 "metadata": {
  "kernelspec": {
   "display_name": "Python 3",
   "language": "python",
   "name": "python3"
  },
  "language_info": {
   "codemirror_mode": {
    "name": "ipython",
    "version": 3
   },
   "file_extension": ".py",
   "mimetype": "text/x-python",
   "name": "python",
   "nbconvert_exporter": "python",
   "pygments_lexer": "ipython3",
   "version": "3.7.4"
  }
 },
 "nbformat": 4,
 "nbformat_minor": 2
}
