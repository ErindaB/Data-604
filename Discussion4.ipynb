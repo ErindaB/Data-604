{
 "cells": [
  {
   "cell_type": "markdown",
   "metadata": {},
   "source": [
    "# DATA604 Discussion Week 4\n",
    "\n"
   ]
  },
  {
   "cell_type": "markdown",
   "metadata": {},
   "source": [
    "## 1.  Explain the balance equations from the rainwater harvesting paper posted to this week's reading. \n",
    " \n",
    "\n",
    "The rainwater harvesting paper posted to this week's reading describes two  balance equation which were designed to optimize water volume within the system, based on captured supply of rainwater, demand for purified water and the overflow of water.\n",
    "Both equations simulate daily volume based on a prior volume, plus any rainwater capture, minus daily demand.\n",
    "\n",
    "The first equation measures overflow and  attempts to calculate the volume based on the daily index by taking into the account the volume from the previous day, roof rainwater minus the overflow.\n",
    "On the other hand the second one  calculates the volume of the cistern based on a given day and by using the previous day volume as well,rainwater from the roof minus the demand. Rather than using the overflow it  estimates potential tank size.\n",
    "\n",
    "**Balance Equations:**  \n",
    "1. Volume in the cistern on a given day(t)  \n",
    "$$V_t = Max\\{ O, V_{t-1} + C_{t} - D_{t} - O_{t} \\}$$\n",
    "2. Min/Max tank capacity  \n",
    "$$V_t = Min\\{ Max\\{ O, V_{t-1} + C_{t} - D_{t} \\}, Cap \\}$$\n",
    "3. Estimated Overflow  \n",
    "$$O_t = Max\\{ O_{t-1}, O_{t-1} + V_{t-1} + C_{t} - D_{t} - Cap \\}$$\n",
    "4. Estimated Shortage  \n",
    "$$X_t = Min\\{ X_{t-1}, X_{t-1} + V_{t-1} + C_{t} - D_{t} \\}$$\n",
    "\n",
    "\n"
   ]
  },
  {
   "cell_type": "markdown",
   "metadata": {},
   "source": [
    "## 2.  Share some code from last week that was particularly rewarding or frustrating.  We will comment on it. \n",
    " \n",
    " \n",
    "The most rewarding code from last week for me was the code for the dysfunctions.It makes designing complicated systems way much easier. \n",
    "\n",
    "\n",
    "\n",
    "def carrying_capacity():\n",
    "    K = -sys1.alpha / sys1.beta\n",
    "    return K\n",
    "    \n",
    "sys1 = System(alpha=0.025, beta=-0.0018)\n",
    "pop = carrying_capacity()\n",
    "print(pop) \n"
   ]
  }
 ],
 "metadata": {
  "kernelspec": {
   "display_name": "Python 3",
   "language": "python",
   "name": "python3"
  },
  "language_info": {
   "codemirror_mode": {
    "name": "ipython",
    "version": 3
   },
   "file_extension": ".py",
   "mimetype": "text/x-python",
   "name": "python",
   "nbconvert_exporter": "python",
   "pygments_lexer": "ipython3",
   "version": "3.7.4"
  }
 },
 "nbformat": 4,
 "nbformat_minor": 4
}
