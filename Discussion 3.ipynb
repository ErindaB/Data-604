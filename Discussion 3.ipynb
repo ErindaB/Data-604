{
 "cells": [
  {
   "cell_type": "markdown",
   "metadata": {},
   "source": [
    "\n",
    "# Discussion Prompt:\n",
    "\n",
    "1.In simulation, what is verification? What is validation? How do they differ? What was done in the assigned simulation journal reading to conduct V&V?\n",
    "\n",
    "2.Share some code from last week that was particularly rewarding or frustrating. We will comment on it.\n",
    "\n",
    "\n",
    "# Part 1\n",
    "Verification is the process of determining that a model implementation and its associated data accurately represent the developer's conceptual description and specifications\n",
    "\n",
    "Validation is the process of determining the degree to which a simulation model and its associated data are an accurate representation of the real world from the perspective of the intended uses of the model \n",
    "\n",
    "Verification answers the question \"Have we built the model right?\" whereas validation answers the question \"Have we built the right model? In other words,te distinction between the two terms is largely to do with the role of specifications. Validation is the process of checking whether the specification captures the customer's needs, while verification is the process of checking that the software meets the specification\n",
    "\n",
    "\n",
    "\n",
    "In the article this week,describes a model simulation for providing optimal support for the relocation of medical assets during military stability operations by minimizing the sum of the penalty-weighted transit time for patient evauations from point of injury to hospital sites.\n",
    "The authors validated their simulation in many ways.\n",
    "The process of model validation  included stochastic components as well as a uniform probability distribution for generating patients in various casualty scenarios. They also chose to use a Sample Average Approximation scheme when optimizing over many scenarios. Also,the authors use data from real medical evacuation logs to derive probabilities for number of patients at any given location, which is then used in the generation of casualties for the simulation.These are examples of validating the approach with the real world system.\n",
    "Model verification ensures that the model works as it was intended.Examples of verification can be found where the authors describe constraints they put on variables in the simulation so that they do not exceed the capabilities of the physical system.\n",
    "    \n",
    "\n"
   ]
  },
  {
   "cell_type": "markdown",
   "metadata": {},
   "source": [
    "\n",
    "# Part 2\n",
    "\n",
    "For me the most rewarding part of the lab assignments is sweeping parameters. The easy formulation below is inspiration on how to deal with a more complex system."
   ]
  },
  {
   "cell_type": "code",
   "execution_count": null,
   "metadata": {},
   "outputs": [],
   "source": [
    "sweep = SweepSeries()\n",
    "\n",
    "for p1 in p1_array:\n",
    "    state = run_simulation(p1, p2, num_steps)\n",
    "    sweep[p1] = state.olin_empty"
   ]
  }
 ],
 "metadata": {
  "kernelspec": {
   "display_name": "Python 3",
   "language": "python",
   "name": "python3"
  },
  "language_info": {
   "codemirror_mode": {
    "name": "ipython",
    "version": 3
   },
   "file_extension": ".py",
   "mimetype": "text/x-python",
   "name": "python",
   "nbconvert_exporter": "python",
   "pygments_lexer": "ipython3",
   "version": "3.7.4"
  }
 },
 "nbformat": 4,
 "nbformat_minor": 2
}
